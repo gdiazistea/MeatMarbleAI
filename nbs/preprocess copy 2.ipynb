{
 "cells": [
  {
   "cell_type": "code",
   "execution_count": null,
   "id": "f7282de0",
   "metadata": {},
   "outputs": [],
   "source": [
    "# Script completo para preprocesamiento de la imagen y resaltar diferencias entre carne (rojo) y grasa (blanco)\n",
    "\n",
    "import cv2\n",
    "import numpy as np\n",
    "import matplotlib.pyplot as plt\n",
    "\n",
    "# Cargar imagen original (usamos '001.jpg' como en tu notebook)\n",
    "image_bgr = cv2.imread('../data/imgs/001.jpg')\n",
    "image_rgb = cv2.cvtColor(image_bgr, cv2.COLOR_BGR2RGB)\n",
    "\n",
    "# Paso 1: Convertir a espacio de color LAB para mejorar contraste\n",
    "lab = cv2.cvtColor(image_rgb, cv2.COLOR_RGB2LAB)\n",
    "clahe = cv2.createCLAHE(clipLimit=3.0, tileGridSize=(8, 8))\n",
    "lab[:, :, 0] = clahe.apply(lab[:, :, 0])  # Aplicar solo a la luminancia\n",
    "\n",
    "# Paso 2: Convertir de vuelta a RGB\n",
    "image_clahe_rgb = cv2.cvtColor(lab, cv2.COLOR_LAB2RGB)\n",
    "\n",
    "# Paso 3: Convertir a HSV\n",
    "hsv = cv2.cvtColor(image_clahe_rgb, cv2.COLOR_RGB2HSV)\n",
    "\n",
    "# Paso 4: Extraer canales útiles\n",
    "hue = hsv[:, :, 0]        # tono\n",
    "saturation = hsv[:, :, 1] # saturación\n",
    "value = hsv[:, :, 2]      # brillo\n",
    "\n",
    "# Paso 5: Crear máscaras básicas por umbrales empíricos\n",
    "# Carne: más saturación, tono rojizo\n",
    "# Grasa: menos saturación, más valor (brillo)\n",
    "mask_carne = (hue < 15) & (saturation > 60)\n",
    "mask_grasa = (saturation < 50) & (value > 160)\n",
    "\n",
    "# Paso 6: Visualización\n",
    "fig, axs = plt.subplots(1, 4, figsize=(18, 5))\n",
    "axs[0].imshow(image_rgb)\n",
    "axs[0].set_title(\"Imagen original\")\n",
    "axs[1].imshow(image_clahe_rgb)\n",
    "axs[1].set_title(\"Con contraste mejorado (CLAHE)\")\n",
    "axs[2].imshow(mask_carne, cmap='Reds')\n",
    "axs[2].set_title(\"Máscara Carne (Rojo)\")\n",
    "axs[3].imshow(mask_grasa, cmap='Blues')\n",
    "axs[3].set_title(\"Máscara Grasa (Blanco)\")\n",
    "for ax in axs:\n",
    "    ax.axis('off')\n",
    "plt.tight_layout()\n",
    "plt.show()\n",
    "\n"
   ]
  }
 ],
 "metadata": {
  "language_info": {
   "name": "python"
  }
 },
 "nbformat": 4,
 "nbformat_minor": 5
}
