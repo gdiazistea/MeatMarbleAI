{
 "cells": [
  {
   "cell_type": "code",
   "execution_count": 1,
   "id": "c28cc965",
   "metadata": {},
   "outputs": [],
   "source": [
    "from segment_anything import sam_model_registry, SamPredictor\n",
    "import torch\n",
    "import numpy as np\n",
    "import cv2\n",
    "from PIL import Image\n",
    "import matplotlib.pyplot as plt\n",
    "\n",
    "# Suponiendo que ya cargaste la imagen RGB\n",
    "image_bgr = cv2.imread('../data/imgs/marbling.jpg')\n",
    "image_rgb = cv2.cvtColor(image_bgr, cv2.COLOR_BGR2RGB)\n"
   ]
  },
  {
   "cell_type": "code",
   "execution_count": null,
   "id": "2446eb9b",
   "metadata": {},
   "outputs": [],
   "source": [
    "# Paso 2: Cargar modelo SAM\n",
    "checkpoint_path = \"../checkpoints/sam_vit_h_4b8939.pth\"\n",
    "model_type = \"vit_h\"\n",
    "\n",
    "device = \"cuda\" if torch.cuda.is_available() else \"cpu\"\n",
    "sam = sam_model_registry[model_type](checkpoint=checkpoint_path)\n",
    "sam.to(device=device)\n",
    "predictor = SamPredictor(sam)"
   ]
  },
  {
   "cell_type": "code",
   "execution_count": null,
   "id": "99c56027",
   "metadata": {},
   "outputs": [],
   "source": []
  },
  {
   "cell_type": "code",
   "execution_count": null,
   "id": "7bc07a7d",
   "metadata": {},
   "outputs": [],
   "source": [
    "# Paso 3: Predecir la máscara del objeto principal\n",
    "predictor.set_image(image_rgb)\n",
    "height, width, _ = image_rgb.shape\n",
    "input_point = np.array([[width // 2, height // 2]])\n",
    "input_label = np.array([1])\n",
    "masks, scores, logits = predictor.predict(\n",
    "    point_coords=input_point,\n",
    "    point_labels=input_label,\n",
    "    multimask_output=True\n",
    ")\n",
    "\n",
    "# Paso 4: Elegir la mejor máscara\n",
    "best_mask = masks[np.argmax(scores)]\n"
   ]
  },
  {
   "cell_type": "code",
   "execution_count": null,
   "id": "eec956e0",
   "metadata": {},
   "outputs": [],
   "source": [
    "# Paso 5: Aplicar máscara para remover fondo\n",
    "mask_uint8 = (best_mask * 255).astype(np.uint8)\n",
    "image_nobg = cv2.bitwise_and(image_rgb, image_rgb, mask=mask_uint8)\n"
   ]
  },
  {
   "cell_type": "code",
   "execution_count": null,
   "id": "b204e071",
   "metadata": {},
   "outputs": [],
   "source": [
    "\n",
    "# Mostrar resultados\n",
    "plt.figure(figsize=(12, 6))\n",
    "plt.subplot(1, 3, 1)\n",
    "plt.imshow(image_rgb)\n",
    "plt.title(\"Original\")\n",
    "plt.axis(\"off\")\n",
    "\n",
    "plt.subplot(1, 3, 2)\n",
    "plt.imshow(best_mask, cmap=\"gray\")\n",
    "plt.title(\"Máscara SAM\")\n",
    "plt.axis(\"off\")\n",
    "\n",
    "plt.subplot(1, 3, 3)\n",
    "plt.imshow(image_nobg)\n",
    "plt.title(\"Sin fondo (SAM)\")\n",
    "plt.axis(\"off\")\n",
    "\n",
    "plt.tight_layout()\n",
    "plt.show()\n"
   ]
  }
 ],
 "metadata": {
  "kernelspec": {
   "display_name": ".venv",
   "language": "python",
   "name": "python3"
  },
  "language_info": {
   "codemirror_mode": {
    "name": "ipython",
    "version": 3
   },
   "file_extension": ".py",
   "mimetype": "text/x-python",
   "name": "python",
   "nbconvert_exporter": "python",
   "pygments_lexer": "ipython3",
   "version": "3.12.3"
  }
 },
 "nbformat": 4,
 "nbformat_minor": 5
}
